{
 "cells": [
  {
   "cell_type": "code",
   "execution_count": 81,
   "metadata": {},
   "outputs": [
    {
     "name": "stdout",
     "output_type": "stream",
     "text": [
      "<class 'pandas.core.frame.DataFrame'>\n",
      "RangeIndex: 71 entries, 0 to 70\n",
      "Data columns (total 11 columns):\n",
      " #   Column         Non-Null Count  Dtype  \n",
      "---  ------         --------------  -----  \n",
      " 0   Brand          71 non-null     object \n",
      " 1   Ram            71 non-null     object \n",
      " 2   Storage Type   71 non-null     object \n",
      " 3   Storage        71 non-null     object \n",
      " 4   Processor      71 non-null     object \n",
      " 5   Clockspeed     71 non-null     object \n",
      " 6   GPU            71 non-null     object \n",
      " 7   Battery        71 non-null     object \n",
      " 8   Weight         71 non-null     object \n",
      " 9   Screen         71 non-null     float64\n",
      " 10  Ethernet Port  71 non-null     object \n",
      "dtypes: float64(1), object(10)\n",
      "memory usage: 6.2+ KB\n"
     ]
    },
    {
     "name": "stderr",
     "output_type": "stream",
     "text": [
      "C:\\Users\\Gnani\\AppData\\Local\\Temp\\ipykernel_24760\\3167053870.py:17: FutureWarning: DataFrame.fillna with 'method' is deprecated and will raise in a future version. Use obj.ffill() or obj.bfill() instead.\n",
      "  data = data.fillna(method='ffill')\n"
     ]
    }
   ],
   "source": [
    "import pandas as pd\n",
    "import matplotlib.pyplot as plt\n",
    "import seaborn as sns\n",
    "from sklearn.model_selection import train_test_split\n",
    "from sklearn.linear_model import LinearRegression\n",
    "from sklearn.metrics import mean_squared_error\n",
    "from sklearn.preprocessing import LabelEncoder\n",
    "import numpy as np\n",
    "\n",
    "\n",
    "old_data = pd.read_csv(\"lap.csv\")\n",
    "\n",
    "old_data.drop(\"Timestamp\",axis = 1,inplace = True)\n",
    "old_data.drop(\"Email Address\",axis = 1,inplace = True)\n",
    "\n",
    "data=old_data.rename(columns={'Brand name of your laptop?': 'Brand', 'RAM size of your current laptop': 'Ram','Storage type': 'Storage Type', 'Storage (in GB)':\"Storage\",'Clock speed': 'Clockspeed','Dedicated GPU': 'GPU','Avg. Battery draining time(hours)': 'Battery','weight(kgs)': 'Weight','screen size': 'Screen','Ethernet port': 'Ethernet Port',})\n",
    "data = data.fillna(method='ffill')\n",
    "\n",
    "data.info()"
   ]
  },
  {
   "cell_type": "code",
   "execution_count": 82,
   "metadata": {},
   "outputs": [
    {
     "name": "stdout",
     "output_type": "stream",
     "text": [
      "     Brand  Ram Storage Type  Storage Processor  Clockspeed  GPU  Battery  \\\n",
      "0     DELL   16          SSD      512     Intel         2.4  yes        4   \n",
      "1   LENOVO    8          HDD      512     Intel         3.6   no        4   \n",
      "2   LENOVO    8          SSD      256     Intel         2.4  yes        6   \n",
      "3     DELL    8          SSD      512     Intel         2.4   no        4   \n",
      "4       HP    8          SSD      256     Intel         2.4  yes        4   \n",
      "..     ...  ...          ...      ...       ...         ...  ...      ...   \n",
      "66    DELL   16          SSD      512     Intel         2.4  yes        4   \n",
      "67    DELL   16          SSD      512     Intel         2.4  yes        6   \n",
      "68  Others    4          SSD      512     Intel         2.4  yes        4   \n",
      "69  Others   32          SSD        2     Other         4.0  yes        4   \n",
      "70      HP   32          SSD      512     Intel         3.6   no        4   \n",
      "\n",
      "    Weight  Screen Ethernet Port  \n",
      "0     1.52    15.6            No  \n",
      "1     1.52    15.6            No  \n",
      "2    23.00    15.6           yes  \n",
      "3     1.52    15.6            No  \n",
      "4     1.52    15.6           yes  \n",
      "..     ...     ...           ...  \n",
      "66    1.52    15.6            No  \n",
      "67    1.52    15.6            No  \n",
      "68    1.50    14.0            No  \n",
      "69    1.50    14.0            No  \n",
      "70    1.50    14.0            No  \n",
      "\n",
      "[71 rows x 11 columns]\n"
     ]
    },
    {
     "name": "stderr",
     "output_type": "stream",
     "text": [
      "<>:1: SyntaxWarning: invalid escape sequence '\\s'\n",
      "<>:2: SyntaxWarning: invalid escape sequence '\\s'\n",
      "<>:3: SyntaxWarning: invalid escape sequence '\\-'\n",
      "<>:4: SyntaxWarning: invalid escape sequence '\\s'\n",
      "<>:5: SyntaxWarning: invalid escape sequence '\\-'\n",
      "<>:6: SyntaxWarning: invalid escape sequence '\\-'\n",
      "<>:1: SyntaxWarning: invalid escape sequence '\\s'\n",
      "<>:2: SyntaxWarning: invalid escape sequence '\\s'\n",
      "<>:3: SyntaxWarning: invalid escape sequence '\\-'\n",
      "<>:4: SyntaxWarning: invalid escape sequence '\\s'\n",
      "<>:5: SyntaxWarning: invalid escape sequence '\\-'\n",
      "<>:6: SyntaxWarning: invalid escape sequence '\\-'\n",
      "C:\\Users\\Gnani\\AppData\\Local\\Temp\\ipykernel_24760\\1451925839.py:1: SyntaxWarning: invalid escape sequence '\\s'\n",
      "  data['Ram'] = data['Ram'].str.replace('[a-zA-Z\\s]', '',regex=True).astype(int)\n",
      "C:\\Users\\Gnani\\AppData\\Local\\Temp\\ipykernel_24760\\1451925839.py:2: SyntaxWarning: invalid escape sequence '\\s'\n",
      "  data['Storage'] = data['Storage'].str.replace('[a-zA-Z\\s]','', regex=True).astype(int)\n",
      "C:\\Users\\Gnani\\AppData\\Local\\Temp\\ipykernel_24760\\1451925839.py:3: SyntaxWarning: invalid escape sequence '\\-'\n",
      "  data['Clockspeed'] = data['Clockspeed'].str.replace('[><\\-\\s]','', regex=True)\n",
      "C:\\Users\\Gnani\\AppData\\Local\\Temp\\ipykernel_24760\\1451925839.py:4: SyntaxWarning: invalid escape sequence '\\s'\n",
      "  data['Clockspeed'] = data['Clockspeed'].str.replace('[a-zA-Z\\s]','', regex=True).astype(float)\n",
      "C:\\Users\\Gnani\\AppData\\Local\\Temp\\ipykernel_24760\\1451925839.py:5: SyntaxWarning: invalid escape sequence '\\-'\n",
      "  data['Weight'] = data['Weight'].str.replace('[><\\-\\s]','', regex=True).astype(float)\n",
      "C:\\Users\\Gnani\\AppData\\Local\\Temp\\ipykernel_24760\\1451925839.py:6: SyntaxWarning: invalid escape sequence '\\-'\n",
      "  data['Battery'] = data['Battery'].str.replace('[><\\-\\s]', '',regex=True).astype(int)\n"
     ]
    }
   ],
   "source": [
    "data['Ram'] = data['Ram'].str.replace('[a-zA-Z\\s]', '',regex=True).astype(int)\n",
    "data['Storage'] = data['Storage'].str.replace('[a-zA-Z\\s]','', regex=True).astype(int)\n",
    "data['Clockspeed'] = data['Clockspeed'].str.replace('[><\\-\\s]','', regex=True)\n",
    "data['Clockspeed'] = data['Clockspeed'].str.replace('[a-zA-Z\\s]','', regex=True).astype(float)\n",
    "data['Weight'] = data['Weight'].str.replace('[><\\-\\s]','', regex=True).astype(float)\n",
    "data['Battery'] = data['Battery'].str.replace('[><\\-\\s]', '',regex=True).astype(int)\n",
    "print(data)\n"
   ]
  },
  {
   "cell_type": "code",
   "execution_count": 83,
   "metadata": {},
   "outputs": [
    {
     "name": "stdout",
     "output_type": "stream",
     "text": [
      "<class 'pandas.core.frame.DataFrame'>\n",
      "RangeIndex: 71 entries, 0 to 70\n",
      "Data columns (total 11 columns):\n",
      " #   Column         Non-Null Count  Dtype  \n",
      "---  ------         --------------  -----  \n",
      " 0   Brand          71 non-null     int32  \n",
      " 1   Ram            71 non-null     int32  \n",
      " 2   Storage Type   71 non-null     int32  \n",
      " 3   Storage        71 non-null     int32  \n",
      " 4   Processor      71 non-null     int32  \n",
      " 5   Clockspeed     71 non-null     float64\n",
      " 6   GPU            71 non-null     int32  \n",
      " 7   Battery        71 non-null     int32  \n",
      " 8   Weight         71 non-null     float64\n",
      " 9   Screen         71 non-null     float64\n",
      " 10  Ethernet Port  71 non-null     int32  \n",
      "dtypes: float64(3), int32(8)\n",
      "memory usage: 4.0 KB\n"
     ]
    },
    {
     "data": {
      "text/html": [
       "<style>#sk-container-id-14 {color: black;}#sk-container-id-14 pre{padding: 0;}#sk-container-id-14 div.sk-toggleable {background-color: white;}#sk-container-id-14 label.sk-toggleable__label {cursor: pointer;display: block;width: 100%;margin-bottom: 0;padding: 0.3em;box-sizing: border-box;text-align: center;}#sk-container-id-14 label.sk-toggleable__label-arrow:before {content: \"▸\";float: left;margin-right: 0.25em;color: #696969;}#sk-container-id-14 label.sk-toggleable__label-arrow:hover:before {color: black;}#sk-container-id-14 div.sk-estimator:hover label.sk-toggleable__label-arrow:before {color: black;}#sk-container-id-14 div.sk-toggleable__content {max-height: 0;max-width: 0;overflow: hidden;text-align: left;background-color: #f0f8ff;}#sk-container-id-14 div.sk-toggleable__content pre {margin: 0.2em;color: black;border-radius: 0.25em;background-color: #f0f8ff;}#sk-container-id-14 input.sk-toggleable__control:checked~div.sk-toggleable__content {max-height: 200px;max-width: 100%;overflow: auto;}#sk-container-id-14 input.sk-toggleable__control:checked~label.sk-toggleable__label-arrow:before {content: \"▾\";}#sk-container-id-14 div.sk-estimator input.sk-toggleable__control:checked~label.sk-toggleable__label {background-color: #d4ebff;}#sk-container-id-14 div.sk-label input.sk-toggleable__control:checked~label.sk-toggleable__label {background-color: #d4ebff;}#sk-container-id-14 input.sk-hidden--visually {border: 0;clip: rect(1px 1px 1px 1px);clip: rect(1px, 1px, 1px, 1px);height: 1px;margin: -1px;overflow: hidden;padding: 0;position: absolute;width: 1px;}#sk-container-id-14 div.sk-estimator {font-family: monospace;background-color: #f0f8ff;border: 1px dotted black;border-radius: 0.25em;box-sizing: border-box;margin-bottom: 0.5em;}#sk-container-id-14 div.sk-estimator:hover {background-color: #d4ebff;}#sk-container-id-14 div.sk-parallel-item::after {content: \"\";width: 100%;border-bottom: 1px solid gray;flex-grow: 1;}#sk-container-id-14 div.sk-label:hover label.sk-toggleable__label {background-color: #d4ebff;}#sk-container-id-14 div.sk-serial::before {content: \"\";position: absolute;border-left: 1px solid gray;box-sizing: border-box;top: 0;bottom: 0;left: 50%;z-index: 0;}#sk-container-id-14 div.sk-serial {display: flex;flex-direction: column;align-items: center;background-color: white;padding-right: 0.2em;padding-left: 0.2em;position: relative;}#sk-container-id-14 div.sk-item {position: relative;z-index: 1;}#sk-container-id-14 div.sk-parallel {display: flex;align-items: stretch;justify-content: center;background-color: white;position: relative;}#sk-container-id-14 div.sk-item::before, #sk-container-id-14 div.sk-parallel-item::before {content: \"\";position: absolute;border-left: 1px solid gray;box-sizing: border-box;top: 0;bottom: 0;left: 50%;z-index: -1;}#sk-container-id-14 div.sk-parallel-item {display: flex;flex-direction: column;z-index: 1;position: relative;background-color: white;}#sk-container-id-14 div.sk-parallel-item:first-child::after {align-self: flex-end;width: 50%;}#sk-container-id-14 div.sk-parallel-item:last-child::after {align-self: flex-start;width: 50%;}#sk-container-id-14 div.sk-parallel-item:only-child::after {width: 0;}#sk-container-id-14 div.sk-dashed-wrapped {border: 1px dashed gray;margin: 0 0.4em 0.5em 0.4em;box-sizing: border-box;padding-bottom: 0.4em;background-color: white;}#sk-container-id-14 div.sk-label label {font-family: monospace;font-weight: bold;display: inline-block;line-height: 1.2em;}#sk-container-id-14 div.sk-label-container {text-align: center;}#sk-container-id-14 div.sk-container {/* jupyter's `normalize.less` sets `[hidden] { display: none; }` but bootstrap.min.css set `[hidden] { display: none !important; }` so we also need the `!important` here to be able to override the default hidden behavior on the sphinx rendered scikit-learn.org. See: https://github.com/scikit-learn/scikit-learn/issues/21755 */display: inline-block !important;position: relative;}#sk-container-id-14 div.sk-text-repr-fallback {display: none;}</style><div id=\"sk-container-id-14\" class=\"sk-top-container\"><div class=\"sk-text-repr-fallback\"><pre>LinearRegression()</pre><b>In a Jupyter environment, please rerun this cell to show the HTML representation or trust the notebook. <br />On GitHub, the HTML representation is unable to render, please try loading this page with nbviewer.org.</b></div><div class=\"sk-container\" hidden><div class=\"sk-item\"><div class=\"sk-estimator sk-toggleable\"><input class=\"sk-toggleable__control sk-hidden--visually\" id=\"sk-estimator-id-14\" type=\"checkbox\" checked><label for=\"sk-estimator-id-14\" class=\"sk-toggleable__label sk-toggleable__label-arrow\">LinearRegression</label><div class=\"sk-toggleable__content\"><pre>LinearRegression()</pre></div></div></div></div></div>"
      ],
      "text/plain": [
       "LinearRegression()"
      ]
     },
     "execution_count": 83,
     "metadata": {},
     "output_type": "execute_result"
    }
   ],
   "source": [
    "\n",
    "# Encoding categorical variables\n",
    "le_b= LabelEncoder()\n",
    "le_s = LabelEncoder()\n",
    "le_p = LabelEncoder()\n",
    "le_g = LabelEncoder()\n",
    "le_e = LabelEncoder()\n",
    "\n",
    "\n",
    "data['Brand'] = le_b.fit_transform(data['Brand'])\n",
    "data['Storage Type'] = le_s.fit_transform(data['Storage Type'])\n",
    "data['Processor'] = le_p.fit_transform(data['Processor'])\n",
    "data['GPU'] = le_g.fit_transform(data['GPU'])\n",
    "data['Ethernet Port'] = le_e.fit_transform(data['Ethernet Port'])\n",
    "data.info()\n",
    "data.to_csv('output_file.csv', index=False)\n",
    "\n",
    "# Selecting relevant features for Linear Regression\n",
    "features = ['Battery', 'Storage', 'Processor', 'Ethernet Port']\n",
    "\n",
    "# Split the data into features (X) and target variable (y)\n",
    "X = data[features].values\n",
    "y = data['Processor'].values\n",
    "\n",
    "# Encoding processor category\n",
    "# X['Processor'] = le_p.fit_transform(X['Processor'])\n",
    "\n",
    "# Split the data into training and testing sets\n",
    "X_train, X_test, y_train, y_test = train_test_split(X, y, test_size=0.2, random_state=42)\n",
    "\n",
    "# Create a linear regression model\n",
    "model = LinearRegression()\n",
    "\n",
    "# Train the model\n",
    "model.fit(X_train, y_train)\n"
   ]
  },
  {
   "cell_type": "code",
   "execution_count": 84,
   "metadata": {},
   "outputs": [
    {
     "name": "stdout",
     "output_type": "stream",
     "text": [
      "\n",
      "Best Laptop Specifications:\n",
      "Brand: 6\n",
      "RAM: 32\n",
      "Storage Type: 1\n",
      "Storage: 2\n",
      "Processor: 2\n",
      "Clockspeed: 4.0\n",
      "GPU: 1\n",
      "Battery: 4\n",
      "Weight: 1.5\n",
      "Screen: 14.0\n",
      "Ethernet Port: 0\n"
     ]
    }
   ],
   "source": [
    "\n",
    "# Function to take user input and predict the laptop processor\n",
    "def predict_laptop():\n",
    "    battery = int(input(\"Enter Battery life (hours): \"))\n",
    "    storage = int(input(\"Enter Storage capacity (GB): \"))\n",
    "    processor = le.transform([input(\"Enter Processor details: \")])[0]\n",
    "    ethernet_port = le.transform([input(\"Ethernet Port available (yes/no): \")])[0]\n",
    "\n",
    "    user_input = [[battery, storage, processor, ethernet_port]]\n",
    "    processor_prediction = model.predict(user_input)\n",
    "\n",
    "    best_match = data.loc[(data['Processor'] - processor_prediction).abs().argsort()[:1]]\n",
    "\n",
    "    print(\"\\nBest Laptop Specifications:\")\n",
    "    print(\"Brand:\", best_match['Brand'].values[0])\n",
    "    print(\"RAM:\", best_match['Ram'].values[0])\n",
    "    print(\"Storage Type:\", best_match['Storage Type'].values[0])\n",
    "    print(\"Storage:\", best_match['Storage'].values[0])\n",
    "    print(\"Processor:\", best_match['Processor'].values[0])\n",
    "    print(\"Clockspeed:\", best_match['Clockspeed'].values[0])\n",
    "    print(\"GPU:\", best_match['GPU'].values[0])\n",
    "    print(\"Battery:\", best_match['Battery'].values[0])\n",
    "    print(\"Weight:\", best_match['Weight'].values[0])\n",
    "    print(\"Screen:\", best_match['Screen'].values[0])\n",
    "    print(\"Ethernet Port:\", best_match['Ethernet Port'].values[0])\n",
    "    best_match\n",
    "# Make predictions based on user input\n",
    "predict_laptop()"
   ]
  }
 ],
 "metadata": {
  "kernelspec": {
   "display_name": "Python 3",
   "language": "python",
   "name": "python3"
  },
  "language_info": {
   "codemirror_mode": {
    "name": "ipython",
    "version": 3
   },
   "file_extension": ".py",
   "mimetype": "text/x-python",
   "name": "python",
   "nbconvert_exporter": "python",
   "pygments_lexer": "ipython3",
   "version": "3.12.0"
  }
 },
 "nbformat": 4,
 "nbformat_minor": 2
}
